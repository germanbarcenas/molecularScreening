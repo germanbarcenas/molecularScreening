{
 "cells": [
  {
   "cell_type": "code",
   "execution_count": 1,
   "id": "4f45476c",
   "metadata": {},
   "outputs": [],
   "source": [
    "# -*- coding: utf-8 -*-\n",
    "\"\"\"\n",
    "Created on Thu Jun 10 20:38:57 2021\n",
    "\n",
    "@author: GERMANBARCENAS\n",
    "\"\"\"\n",
    "\n",
    "#%% Modules\n",
    "import openbabel\n",
    "from openbabel import openbabel as ob\n",
    "\n"
   ]
  },
  {
   "cell_type": "code",
   "execution_count": 4,
   "id": "71e86dbc",
   "metadata": {},
   "outputs": [
    {
     "data": {
      "text/plain": [
       "'CO/C/1=C\\\\2/N=C([C](=[CH2]2)(C)C)/C=c/2\\\\[nH]/c(=C\\\\C3=N/C(=C\\\\c4[nH]c1c(C#C[C@]15C[C@](C1)(C5)C#Cc1c/c/5=C/C6=N/C(=C\\\\c7[nH]c(/C=C/8\\\\N=C(/C(=c/1\\\\[nH]5)/OC)[CH2]=[C]8(C)C)cc7C#Cc1ccc(cc1)N(=O)=O)/[CH2]=[C]6(C)C)c4)/[C](=[CH2]3)(C)C)/c(c2)C#Cc1ccc(cc1)N(=O)=O\\n'"
      ]
     },
     "execution_count": 4,
     "metadata": {},
     "output_type": "execute_result"
    }
   ],
   "source": [
    "#%% Create .gjf from .pdb using OpenBabel\n",
    "\n",
    "InputFilename='bis-bc-3_gs_opt_m062x_n-octanol.out'\n",
    "OutputFilename='bis-bc-3.can'\n",
    "\n",
    "obConversion = ob.OBConversion()\n",
    "obConversion.OpenInAndOutFiles(\"%s\"%InputFilename,\"%s\"%OutputFilename)\n",
    "obConversion.AddOption(\"n\",obConversion.OUTOPTIONS) #removes filename from output\n",
    "obConversion.SetInAndOutFormats(\"out\", \"can\")\n",
    "mol = ob.OBMol()\n",
    "obConversion.ReadFile(mol,'%s' %InputFilename)\n",
    "obConversion.WriteFile(mol, '%s' %OutputFilename)\n",
    "z=obConversion.Convert()\n",
    "obConversion.CloseOutFile()\n",
    "f=open(\"%s\" %OutputFilename)\n",
    "f.read()"
   ]
  },
  {
   "cell_type": "code",
   "execution_count": null,
   "id": "d3102bbd",
   "metadata": {},
   "outputs": [],
   "source": []
  }
 ],
 "metadata": {
  "kernelspec": {
   "display_name": "Python 3 (ipykernel)",
   "language": "python",
   "name": "python3"
  },
  "language_info": {
   "codemirror_mode": {
    "name": "ipython",
    "version": 3
   },
   "file_extension": ".py",
   "mimetype": "text/x-python",
   "name": "python",
   "nbconvert_exporter": "python",
   "pygments_lexer": "ipython3",
   "version": "3.9.7"
  }
 },
 "nbformat": 4,
 "nbformat_minor": 5
}
